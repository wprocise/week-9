{
  "cells": [
    {
      "cell_type": "markdown",
      "id": "5c02d8d7",
      "metadata": {},
      "source": [
        "<font color='darkred'> Unless otherwise noted, **this notebook will not be reviewed or autograded.**</font> You are welcome to use it for scratchwork, but **only the files listed in the exercises will be checked.**\n",
        "\n",
        "---\n",
        "\n",
        "# Exercises\n",
        "\n",
        "For these exercises, add your functions to the *app\\.py* file and the *apputil\\.py* file."
      ]
    },
    {
      "cell_type": "markdown",
      "id": "5a24d634-305e-45c8-8e6e-69102c47ede2",
      "metadata": {
        "id": "5a24d634-305e-45c8-8e6e-69102c47ede2"
      },
      "source": [
        "# Building a basic model\n",
        "\n",
        "We'll build a [Python class](https://pythonbasics.org/class/) called `GroupEstimate` which takes in *categorical* data and corresponding *continuous* values, determines which group a new observation falls into, and \"predicts\" an estimate value based on the data provided."
      ]
    },
    {
      "cell_type": "markdown",
      "id": "877feef4",
      "metadata": {},
      "source": [
        "## Exercise 1\n",
        "\n",
        "### Part 1\n",
        "\n",
        "Define a class `GroupEstimate` that accepts an `estimate` argument, which can be either `\"mean\"` or `\"median\"`.\n",
        "\n",
        "### Part 2\n",
        "\n",
        "Add a `.fit(X, y)` method that takes in a pandas DataFrame of *categorical* data, `X`, and a 1-D array, `y`. There should be no missing values in `y`, and each row of `X` corresponds to the same \"row\" in `y`, so they should be the same length.\n",
        "\n",
        "- Combine `X` and `y` into a shared pandas DataFrame.\n",
        "- Group the DataFrame by the columns in `X`.\n",
        "- For each group, calculate either the mean or median value of `y`, depending on the `estimate` argument.\n",
        "- *Note: Your class should not \"store\" `X` or `y`.* Only \"save\" the data needed to accomplish Part 3, below.\n",
        "\n",
        "### Part 3\n",
        "\n",
        "Add a `.predict(X_)` method that takes in an array of observations (or a dataframe) corresponding to the columns in `X_`, determines which group they fall into, and returns the corresponding estimates for `y`.\n",
        "\n",
        "If an incoming category or combination of categories was missing in the original data, return `NaN` for that observation and print a message indicating the number of missing groups."
      ]
    },
    {
      "cell_type": "code",
      "execution_count": 16,
      "id": "1b5b3ceb",
      "metadata": {},
      "outputs": [],
      "source": [
        "## Exercise 1\n",
        "\"\"\"\n",
        "Build python class called 'GroupEstimate' taking categorical data and corresponding \n",
        "continuous values, and determines which group a new observation falls into, and \n",
        "predicts an estimate value based on the data provided.\n",
        "\"\"\"\n",
        "# Part 1: Define a class 'GroupEstimate' that accepts an 'estimate' argument, which can be either \"mean\" or \"median\".\n",
        "class GroupEstimate():\n",
        "    def __init__(self, estimate):\n",
        "        if estimate not in [\"mean\", \"median\"]:\n",
        "            raise ValueError(\"Estimate must be either 'mean' or 'median'\")\n",
        "        self.estimate = estimate\n",
        "        self.group_data = {}"
      ]
    },
    {
      "cell_type": "code",
      "execution_count": 17,
      "id": "c697ccd0",
      "metadata": {},
      "outputs": [],
      "source": [
        "import pandas as pd\n",
        "import numpy as np\n",
        "\n",
        "# Part 2: Add a .fit(X, y) method that takes in a pandas DataFrame of categorical data 'X', and a 1-D array, 'y'. \n",
        "\"\"\"\n",
        "Combine 'X' and 'y' into shared pandas DataFrame.\n",
        "Group the DataFrame by the columns in 'X'.\n",
        "For each group, calculate either the mean or median value of 'y', depending on the 'estimate' argument.\n",
        "Class should not store 'X' or 'y', only save the data needed to accomplish part 3.\n",
        "\"\"\"\n",
        "\n",
        "def fit(self, X, y):\n",
        "    # Combine X and y into a single DataFrame\n",
        "    data = X.copy()\n",
        "    data['y'] = y\n",
        "\n",
        "    # Group by all columns in X\n",
        "    grouped = data.groupby(list(X.columns))['y']\n",
        "\n",
        "    # Compute group-level statistic\n",
        "    if self.estimate == \"mean\":\n",
        "        self.group_data = grouped.mean().to_dict()\n",
        "    else:\n",
        "        self.group_data = grouped.median().to_dict()\n",
        "\n",
        "def predict(self, X_):\n",
        "    \"\"\"Predict based on the learned group means/medians.\"\"\"\n",
        "    X_ = pd.DataFrame(X_)\n",
        "    keys = [tuple(row) for row in X_.to_numpy()]\n",
        "    predictions = [self.group_data.get(k, np.nan) for k in keys]\n",
        "\n",
        "    missing_count = sum(pd.isna(predictions))\n",
        "    if missing_count > 0:\n",
        "        print(f\"{missing_count} observation(s) belong to unseen group(s). Returning NaN for those.\")\n",
        "\n",
        "    return predictions"
      ]
    },
    {
      "cell_type": "code",
      "execution_count": 14,
      "id": "70f9d742",
      "metadata": {},
      "outputs": [
        {
          "name": "stdout",
          "output_type": "stream",
          "text": [
            "  team         player_name position  jersey_number  height_in  weight_lb  age\n",
            "0  IND        Daniel Jones       QB             17         75        225   28\n",
            "1  IND     Jonathon Taylor       RB             28         70        215   26\n",
            "2  IND  Michael Pittman Jr       WR             11         77        250   28\n",
            "3  BUF          Josh Allen       QB             17         77        238   29\n",
            "4  BUF          James Cook       RB              4         70        190   24\n",
            "5  BUF        Keon Coleman       WR              0         72        191   23\n"
          ]
        }
      ],
      "source": [
        "import pandas as pd\n",
        "\n",
        "# Example NFL player data for two teams\n",
        "data = {\n",
        "    \"team\": [\"IND\", \"IND\", \"IND\", \"BUF\", \"BUF\", \"BUF\"],\n",
        "    \"player_name\": [\n",
        "        \"Daniel Jones\", \"Jonathon Taylor\", \"Michael Pittman Jr\",\n",
        "        \"Josh Allen\", \"James Cook\", \"Keon Coleman\"\n",
        "    ],\n",
        "    \"position\": [\"QB\", \"RB\", \"WR\", \"QB\", \"RB\", \"WR\"],\n",
        "    \"jersey_number\": [17, 28, 11, 17, 4, 0],\n",
        "    \"height_in\": [75, 70, 77, 77, 70, 72],\n",
        "    \"weight_lb\": [225, 215, 250, 238, 190, 191],\n",
        "    \"age\": [28, 26, 28, 29, 24, 23],\n",
        "}\n",
        "\n",
        "players_df = pd.DataFrame(data)\n",
        "print(players_df)"
      ]
    },
    {
      "cell_type": "code",
      "execution_count": 15,
      "id": "5fed1b72",
      "metadata": {},
      "outputs": [
        {
          "ename": "AttributeError",
          "evalue": "'GroupEstimate' object has no attribute 'predict'",
          "output_type": "error",
          "traceback": [
            "\u001b[31m---------------------------------------------------------------------------\u001b[39m",
            "\u001b[31mAttributeError\u001b[39m                            Traceback (most recent call last)",
            "\u001b[36mCell\u001b[39m\u001b[36m \u001b[39m\u001b[32mIn[15]\u001b[39m\u001b[32m, line 15\u001b[39m\n\u001b[32m      5\u001b[39m model.fit(X, y)\n\u001b[32m      8\u001b[39m X_ = [[\u001b[33m\"\u001b[39m\u001b[33mIND\u001b[39m\u001b[33m\"\u001b[39m, \u001b[33m\"\u001b[39m\u001b[33mQB\u001b[39m\u001b[33m\"\u001b[39m],\n\u001b[32m      9\u001b[39m       [\u001b[33m\"\u001b[39m\u001b[33mIND\u001b[39m\u001b[33m\"\u001b[39m, \u001b[33m\"\u001b[39m\u001b[33mRB\u001b[39m\u001b[33m\"\u001b[39m],\n\u001b[32m     10\u001b[39m       [\u001b[33m\"\u001b[39m\u001b[33mIND\u001b[39m\u001b[33m\"\u001b[39m, \u001b[33m\"\u001b[39m\u001b[33mWR\u001b[39m\u001b[33m\"\u001b[39m],\n\u001b[32m     11\u001b[39m       [\u001b[33m\"\u001b[39m\u001b[33mBUF\u001b[39m\u001b[33m\"\u001b[39m, \u001b[33m\"\u001b[39m\u001b[33mQB\u001b[39m\u001b[33m\"\u001b[39m],\n\u001b[32m     12\u001b[39m       [\u001b[33m\"\u001b[39m\u001b[33mBUF\u001b[39m\u001b[33m\"\u001b[39m, \u001b[33m\"\u001b[39m\u001b[33mRB\u001b[39m\u001b[33m\"\u001b[39m],\n\u001b[32m     13\u001b[39m       [\u001b[33m\"\u001b[39m\u001b[33mBUF\u001b[39m\u001b[33m\"\u001b[39m, \u001b[33m\"\u001b[39m\u001b[33mWR\u001b[39m\u001b[33m\"\u001b[39m]]\n\u001b[32m---> \u001b[39m\u001b[32m15\u001b[39m \u001b[43mmodel\u001b[49m\u001b[43m.\u001b[49m\u001b[43mpredict\u001b[49m(X_)\n\u001b[32m     16\u001b[39m \u001b[38;5;66;03m# Expected Output: [28.0, 26.0, 28.0, 29.0, 24.0, 23.0]\u001b[39;00m\n",
            "\u001b[31mAttributeError\u001b[39m: 'GroupEstimate' object has no attribute 'predict'"
          ]
        }
      ],
      "source": [
        "X = players_df[[\"team\", \"position\"]]\n",
        "y = players_df[\"age\"]\n",
        "\n",
        "model = GroupEstimate(estimate=\"mean\")\n",
        "model.fit(X, y)\n",
        "\n",
        "\n",
        "X_ = [[\"IND\", \"QB\"],\n",
        "      [\"IND\", \"RB\"],\n",
        "      [\"IND\", \"WR\"],\n",
        "      [\"BUF\", \"QB\"],\n",
        "      [\"BUF\", \"RB\"],\n",
        "      [\"BUF\", \"WR\"]]\n",
        "\n",
        "model.predict(X_)\n",
        "# Expected Output: [28.0, 26.0, 28.0, 29.0, 24.0, 23.0]"
      ]
    },
    {
      "cell_type": "markdown",
      "id": "c031e41b",
      "metadata": {},
      "source": [
        "### Example\n",
        "\n",
        "For example, if we have a dataframe of coffee reviews, and `X` includes two columns: *country* and *roast type*, we might want to predict the average *review score* for a new coffee from a given country and roast type. In this way, we could run:\n",
        "\n",
        "```python\n",
        "X = df_raw[[\"loc_country\", \"roast\"]]\n",
        "y = df_raw[\"rating\"]\n",
        "\n",
        "gm = GroupEstimate(estimate='mean')\n",
        "gm.fit(X, y)\n",
        "\n",
        "X_ = [[\"Guatemala\", \"Light\"],\n",
        "      [\"Mexico\", \"Medium\"],\n",
        "      [\"Canada\", \"Dark\"]]\n",
        "\n",
        "gm.predict(X_)\n",
        "\n",
        ">> [88.4, 91. ,  nan]  # say there are no Canadian dark roasts\n",
        "```"
      ]
    },
    {
      "cell_type": "markdown",
      "id": "6f05c34e",
      "metadata": {},
      "source": [
        "## Bonus Exercise 2\n",
        "\n",
        "Adjust your `GroupEstimate` class to handle the situation where the combination of categories is missing, but a particular category is not. That is, add to your `.fit` method an optional argument `default_category`. If a combination is missing, the estimate for `y` will be based solely on the group defined by `default_category`.\n",
        "\n",
        "For example, suppose we have the code in the example above, but we replace the fit line with\n",
        "\n",
        "```python\n",
        "# ...\n",
        "gm.fit(X, y, default_cagegory=\"country\")\n",
        "# ...\n",
        "\n",
        ">> [4.5, 3.8, 3.1]\n",
        "```\n",
        "\n",
        "In this case, the missing value in that array would be filled with the average review score for Brazilian roasts.\n",
        "\n",
        "*Hint: consider the `observed` argument of the `groupby` [method](https://pandas.pydata.org/docs/reference/api/pandas.DataFrame.groupby.html), and go from there ...*"
      ]
    }
  ],
  "metadata": {
    "colab": {
      "provenance": []
    },
    "kernelspec": {
      "display_name": "h501-week-9",
      "language": "python",
      "name": "python3"
    },
    "language_info": {
      "codemirror_mode": {
        "name": "ipython",
        "version": 3
      },
      "file_extension": ".py",
      "mimetype": "text/x-python",
      "name": "python",
      "nbconvert_exporter": "python",
      "pygments_lexer": "ipython3",
      "version": "3.12.12"
    }
  },
  "nbformat": 4,
  "nbformat_minor": 5
}
